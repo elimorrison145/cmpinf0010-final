{
 "cells": [
  {
   "cell_type": "markdown",
   "metadata": {},
   "source": [
    "## Dataset Ideas\n",
    "**https://data.wprdc.org/dataset/arrest-data** Maybe group by types of crime and weight differently?\n",
    "\n",
    "**https://data.wprdc.org/dataset/pgh/resource/b7156251-6036-4b68-ad2a-95566c84343e** Neighborhood Population Data\n",
    "\n",
    "https://data.wprdc.org/dataset/playgrounds\n",
    "\n",
    "https://data.wprdc.org/dataset/smart-trash-containers"
   ]
  },
  {
   "cell_type": "code",
   "execution_count": 1,
   "metadata": {},
   "outputs": [],
   "source": [
    "import pandas as pd\n",
    "import numpy as np"
   ]
  },
  {
   "cell_type": "code",
   "execution_count": 22,
   "metadata": {},
   "outputs": [],
   "source": [
    "arrest_data = pd.read_csv(\"arrest-data.csv\")\n",
    "census_data = pd.read_excel(\"census-data.xlsx\")"
   ]
  },
  {
   "cell_type": "code",
   "execution_count": 20,
   "metadata": {},
   "outputs": [
    {
     "data": {
      "text/html": [
       "<div>\n",
       "<style scoped>\n",
       "    .dataframe tbody tr th:only-of-type {\n",
       "        vertical-align: middle;\n",
       "    }\n",
       "\n",
       "    .dataframe tbody tr th {\n",
       "        vertical-align: top;\n",
       "    }\n",
       "\n",
       "    .dataframe thead th {\n",
       "        text-align: right;\n",
       "    }\n",
       "</style>\n",
       "<table border=\"1\" class=\"dataframe\">\n",
       "  <thead>\n",
       "    <tr style=\"text-align: right;\">\n",
       "      <th></th>\n",
       "      <th>PK</th>\n",
       "      <th>CCR</th>\n",
       "      <th>AGE</th>\n",
       "      <th>GENDER</th>\n",
       "      <th>RACE</th>\n",
       "      <th>ARRESTTIME</th>\n",
       "      <th>ARRESTLOCATION</th>\n",
       "      <th>OFFENSES</th>\n",
       "      <th>INCIDENTLOCATION</th>\n",
       "      <th>INCIDENTZONE</th>\n",
       "      <th>INCIDENTTRACT</th>\n",
       "      <th>COUNCIL_DISTRICT</th>\n",
       "      <th>PUBLIC_WORKS_DIVISION</th>\n",
       "      <th>X</th>\n",
       "      <th>Y</th>\n",
       "    </tr>\n",
       "    <tr>\n",
       "      <th>INCIDENTNEIGHBORHOOD</th>\n",
       "      <th></th>\n",
       "      <th></th>\n",
       "      <th></th>\n",
       "      <th></th>\n",
       "      <th></th>\n",
       "      <th></th>\n",
       "      <th></th>\n",
       "      <th></th>\n",
       "      <th></th>\n",
       "      <th></th>\n",
       "      <th></th>\n",
       "      <th></th>\n",
       "      <th></th>\n",
       "      <th></th>\n",
       "      <th></th>\n",
       "    </tr>\n",
       "  </thead>\n",
       "  <tbody>\n",
       "    <tr>\n",
       "      <th>South Side Slopes</th>\n",
       "      <td>1974582</td>\n",
       "      <td>16146591</td>\n",
       "      <td>23.0</td>\n",
       "      <td>M</td>\n",
       "      <td>W</td>\n",
       "      <td>2016-08-07T00:10:00</td>\n",
       "      <td>2000 Block S 18th ST Pittsburgh, PA 15203</td>\n",
       "      <td>2702 Aggravated Assault. / 2706 Terroristic Th...</td>\n",
       "      <td>2000 Block S 18th ST Pittsburgh, PA 15203</td>\n",
       "      <td>3</td>\n",
       "      <td>1706.0</td>\n",
       "      <td>3.0</td>\n",
       "      <td>3.0</td>\n",
       "      <td>-79.977637</td>\n",
       "      <td>40.423392</td>\n",
       "    </tr>\n",
       "  </tbody>\n",
       "</table>\n",
       "</div>"
      ],
      "text/plain": [
       "                           PK       CCR   AGE GENDER RACE  \\\n",
       "INCIDENTNEIGHBORHOOD                                        \n",
       "South Side Slopes     1974582  16146591  23.0      M    W   \n",
       "\n",
       "                               ARRESTTIME  \\\n",
       "INCIDENTNEIGHBORHOOD                        \n",
       "South Side Slopes     2016-08-07T00:10:00   \n",
       "\n",
       "                                                 ARRESTLOCATION  \\\n",
       "INCIDENTNEIGHBORHOOD                                              \n",
       "South Side Slopes     2000 Block S 18th ST Pittsburgh, PA 15203   \n",
       "\n",
       "                                                               OFFENSES  \\\n",
       "INCIDENTNEIGHBORHOOD                                                      \n",
       "South Side Slopes     2702 Aggravated Assault. / 2706 Terroristic Th...   \n",
       "\n",
       "                                               INCIDENTLOCATION INCIDENTZONE  \\\n",
       "INCIDENTNEIGHBORHOOD                                                           \n",
       "South Side Slopes     2000 Block S 18th ST Pittsburgh, PA 15203            3   \n",
       "\n",
       "                      INCIDENTTRACT  COUNCIL_DISTRICT  PUBLIC_WORKS_DIVISION  \\\n",
       "INCIDENTNEIGHBORHOOD                                                           \n",
       "South Side Slopes            1706.0               3.0                    3.0   \n",
       "\n",
       "                              X          Y  \n",
       "INCIDENTNEIGHBORHOOD                        \n",
       "South Side Slopes    -79.977637  40.423392  "
      ]
     },
     "execution_count": 20,
     "metadata": {},
     "output_type": "execute_result"
    }
   ],
   "source": [
    "arrest_data.head()"
   ]
  },
  {
   "cell_type": "code",
   "execution_count": null,
   "metadata": {},
   "outputs": [],
   "source": []
  }
 ],
 "metadata": {
  "kernelspec": {
   "display_name": "Python 3",
   "language": "python",
   "name": "python3"
  },
  "language_info": {
   "codemirror_mode": {
    "name": "ipython",
    "version": 3
   },
   "file_extension": ".py",
   "mimetype": "text/x-python",
   "name": "python",
   "nbconvert_exporter": "python",
   "pygments_lexer": "ipython3",
   "version": "3.8.5"
  }
 },
 "nbformat": 4,
 "nbformat_minor": 4
}
